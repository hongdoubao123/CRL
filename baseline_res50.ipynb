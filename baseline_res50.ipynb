{
 "cells": [
  {
   "cell_type": "code",
   "execution_count": null,
   "id": "5e5433a9",
   "metadata": {},
   "outputs": [],
   "source": [
    "import json\n",
    "%run dataloader.ipynb\n",
    "# %run dataloader_ori.ipynb"
   ]
  },
  {
   "cell_type": "code",
   "execution_count": null,
   "id": "920dc6aa",
   "metadata": {
    "ExecuteTime": {
     "end_time": "2024-01-06T01:51:40.872865Z",
     "start_time": "2024-01-06T01:51:29.241506Z"
    }
   },
   "outputs": [],
   "source": [
    "import os\n",
    "import random\n",
    "import torch.nn.functional as F\n",
    "import torch\n",
    "import time\n",
    "import datetime\n",
    "import  torchvision\n",
    "import numpy as np\n",
    "import pandas as pd\n",
    "from PIL import Image\n",
    "from torch import optim, nn\n",
    "from torch.autograd import Variable\n",
    "from torch.utils.data import Dataset, DataLoader\n",
    "from torchvision import datasets, transforms\n",
    "from torch.optim.lr_scheduler import MultiStepLR\n",
    "\n",
    "\n",
    "torch.cuda.is_available()\n",
    "device = torch.device(\"cuda:0\")\n",
    "device\n",
    "if torch.cuda.is_available():\n",
    "    device = torch.device(\"cuda:0\")  # you can continue going on here, like cuda:1 cuda:2....etc. \n",
    "    print(\"Running on the GPU\")\n",
    "!nvidia-smi"
   ]
  },
  {
   "cell_type": "code",
   "execution_count": null,
   "id": "4f83e928",
   "metadata": {
    "ExecuteTime": {
     "end_time": "2024-01-06T01:51:47.542954Z",
     "start_time": "2024-01-06T01:51:44.866553Z"
    }
   },
   "outputs": [],
   "source": [
    "path1 = r'./Datasets/AiRound/aerial/'\n",
    "train_images_path, train_images_label,val_images_path, val_images_label,test_images_path, test_images_label , num_classes=read_split_data(path1,0.7,0.1,0.2)\n"
   ]
  },
  {
   "cell_type": "code",
   "execution_count": null,
   "id": "02057975",
   "metadata": {
    "ExecuteTime": {
     "end_time": "2024-01-06T01:56:26.067238Z",
     "start_time": "2024-01-06T01:56:10.646846Z"
    }
   },
   "outputs": [],
   "source": [
    "# num_classes =9\n",
    "model = torchvision.models.resnet50(pretrained = True)\n",
    "model.fc = nn.Linear(2048,num_classes)\n",
    "model.to(device)"
   ]
  },
  {
   "cell_type": "code",
   "execution_count": 13,
   "id": "63629796",
   "metadata": {
    "ExecuteTime": {
     "end_time": "2024-01-06T01:57:41.077033Z",
     "start_time": "2024-01-06T01:57:41.066633Z"
    }
   },
   "outputs": [],
   "source": [
    "optimizer = optim.SGD(model.parameters(), lr=0.01, momentum=0.9, weight_decay=0.001)\n",
    "scheduler = MultiStepLR(optimizer, milestones=[50,200], gamma=0.1)\n",
    "ceriation = nn.CrossEntropyLoss().to(device)"
   ]
  },
  {
   "cell_type": "code",
   "execution_count": 15,
   "id": "dca470c9",
   "metadata": {
    "ExecuteTime": {
     "end_time": "2024-01-06T01:58:40.885532Z",
     "start_time": "2024-01-06T01:58:40.863119Z"
    }
   },
   "outputs": [],
   "source": [
    "class AverageMeter(object):\n",
    "    \"\"\"Computes and stores the average and current value\"\"\"\n",
    "\n",
    "    def __init__(self, name, fmt=':f'):\n",
    "        self.name = name\n",
    "        self.fmt = fmt\n",
    "        self.reset()\n",
    "\n",
    "    def reset(self):\n",
    "        self.val = 0\n",
    "        self.avg = 0\n",
    "        self.sum = 0\n",
    "        self.count = 0\n",
    "\n",
    "    def update(self, val, n=1):\n",
    "        self.val = val\n",
    "        self.sum += val * n\n",
    "        self.count += n\n",
    "        self.avg = self.sum / self.count\n",
    "\n",
    "    def __str__(self):\n",
    "        fmtstr = '{name} {avg' + self.fmt + '}'\n",
    "        return fmtstr.format(**self.__dict__)\n",
    "\n",
    "    \n",
    "class ProgressMeter(object):\n",
    "    def __init__(self, num_batches, meters, prefix=\"\"):\n",
    "        self.batch_fmtstr = self._get_batch_fmtstr(num_batches)\n",
    "        self.meters = meters\n",
    "        self.prefix = prefix\n",
    "\n",
    "    def display(self, batch):\n",
    "        entries = [self.prefix + self.batch_fmtstr.format(batch)]\n",
    "        entries += [str(meter) for meter in self.meters]\n",
    "        print('\\t'.join(entries))\n",
    "\n",
    "    def _get_batch_fmtstr(self, num_batches):\n",
    "        num_digits = len(str(num_batches // 1))\n",
    "        fmt = '{:' + str(num_digits) + 'd}'\n",
    "        return '[' + fmt + '/' + fmt.format(num_batches) + ']'\n",
    "    \n",
    "def accuracy(output, target, topk=(1,)):\n",
    "    with torch.no_grad():\n",
    "        maxk = max(topk)\n",
    "        batch_size = target.size(0)\n",
    "\n",
    "        _, pred = output.topk(maxk, 1, True, True)\n",
    "        pred = pred.t()\n",
    "        correct = pred.eq(target.view(1, -1).expand_as(pred))\n",
    "\n",
    "        res = []\n",
    "        for k in topk:\n",
    "            correct_k = correct[:k].reshape(-1).float().sum(0, keepdim=True)\n",
    "            res.append(correct_k.mul_(100.0 / batch_size))\n",
    "        return res\n",
    "def getTime():\n",
    "    time_stamp = datetime.datetime.now()\n",
    "    return time_stamp.strftime('%H:%M:%S')"
   ]
  },
  {
   "cell_type": "code",
   "execution_count": 11,
   "id": "3c77a278",
   "metadata": {
    "ExecuteTime": {
     "end_time": "2024-01-06T01:57:01.501642Z",
     "start_time": "2024-01-06T01:57:01.480519Z"
    }
   },
   "outputs": [],
   "source": [
    "def train(model, train_iter, ceriation, train_optimizer, num_prints=1):\n",
    "    batch_time = AverageMeter('Time', ':6.3f')\n",
    "    data_time = AverageMeter('Data', ':6.3f')\n",
    "    losses = AverageMeter('Loss', ':6.3f')\n",
    "    top1 = AverageMeter('Acc@1', ':6.2f')\n",
    "    progress = ProgressMeter(\n",
    "        len(train_iter),\n",
    "        [batch_time, data_time, losses, top1], prefix=\"Train \")\n",
    "\n",
    "    end = time.time()\n",
    "    num_iter = int((len(train_iter)-1) / num_prints)\n",
    "    for batch_idx in range(num_iter):\n",
    "        try:\n",
    "            images, labels,_ = train_iter.next()\n",
    "            images = images.to(device, non_blocking=True)\n",
    "            labels = labels.to(device, non_blocking=True)\n",
    "        except StopIteration:\n",
    "            break\n",
    "\n",
    "        model.train()\n",
    "        data_time.update(time.time() - end)\n",
    "        train_optimizer.zero_grad()\n",
    "        logits = model(images)\n",
    "        loss = ceriation(logits, labels)\n",
    "        loss.requires_grad_(True)\n",
    "        loss.backward()\n",
    "        train_optimizer.step()\n",
    "\n",
    "        acc1, acc5 = accuracy(logits, labels, topk=(1, 5))\n",
    "        losses.update(loss.item(), images[0].size(0))\n",
    "        top1.update(acc1[0], images[0].size(0))\n",
    "        batch_time.update(time.time() - end)\n",
    "        end = time.time()\n",
    "\n",
    "    progress.display(batch_idx)\n",
    "    return top1.avg, losses.avg\n",
    "\n",
    "\n",
    "def evaluate(model, eva_loader, ceriation, prefix, ignore=-1):\n",
    "    losses = AverageMeter('Loss', ':3.2f')\n",
    "    top1 = AverageMeter('Acc@1', ':3.2f')\n",
    "    model.eval()\n",
    "\n",
    "    with torch.no_grad():\n",
    "        for i, (images, labels,_) in enumerate(eva_loader):\n",
    "            images = Variable(images).cuda()\n",
    "            labels = Variable(labels).cuda()\n",
    "#             images = images.to(device)\n",
    "#             labels = labels.to(device)\n",
    "\n",
    "            logist = model(images)\n",
    "\n",
    "            loss = ceriation(logist, labels)\n",
    "            acc1, acc5 = accuracy(logist, labels, topk=(1, 5))\n",
    "\n",
    "            losses.update(loss.item(), images[0].size(0))\n",
    "            top1.update(acc1[0], images[0].size(0))\n",
    "\n",
    "    if prefix != \"\":\n",
    "        print(getTime(), prefix, round(top1.avg.item(), 2))\n",
    "\n",
    "    return losses.avg, top1.avg.to(\"cpu\", torch.float).item()"
   ]
  },
  {
   "cell_type": "code",
   "execution_count": null,
   "id": "49ce62af",
   "metadata": {
    "ExecuteTime": {
     "end_time": "2024-01-06T02:02:47.015307Z",
     "start_time": "2024-01-06T01:58:43.659126Z"
    }
   },
   "outputs": [],
   "source": [
    "best_acc = 0\n",
    "for i in range(300):\n",
    "    train_iter = iter(train_loader)\n",
    "    print(\"Start training epoch:{}\".format(i))\n",
    "    train(model, train_iter, ceriation, optimizer,1)\n",
    "    val_loss, val_acc = evaluate(model, val_loader, ceriation, \"Epoch \" + str(i) + \", Val Acc:\")\n",
    "    print(getTime(), \"Model Best Val Acc:\", val_acc)\n",
    "    _, test_acc = evaluate(model, test_loader, ceriation, \"Epoch_test \"+ \", Test Acc1:\")\n",
    "    print(getTime(), \"Model Best Test Acc:\", test_acc)\n",
    "    scheduler.step()    \n",
    "    if val_acc > best_acc:\n",
    "        best_acc = val_acc\n",
    "        torch.save(model.state_dict(),'save_ori_model')"
   ]
  }
 ],
 "metadata": {
  "kernelspec": {
   "display_name": "d2l",
   "language": "python",
   "name": "d2l"
  },
  "language_info": {
   "codemirror_mode": {
    "name": "ipython",
    "version": 3
   },
   "file_extension": ".py",
   "mimetype": "text/x-python",
   "name": "python",
   "nbconvert_exporter": "python",
   "pygments_lexer": "ipython3",
   "version": "3.7.12"
  },
  "toc": {
   "base_numbering": 1,
   "nav_menu": {},
   "number_sections": true,
   "sideBar": true,
   "skip_h1_title": false,
   "title_cell": "Table of Contents",
   "title_sidebar": "Contents",
   "toc_cell": false,
   "toc_position": {},
   "toc_section_display": true,
   "toc_window_display": false
  },
  "varInspector": {
   "cols": {
    "lenName": 16,
    "lenType": 16,
    "lenVar": 40
   },
   "kernels_config": {
    "python": {
     "delete_cmd_postfix": "",
     "delete_cmd_prefix": "del ",
     "library": "var_list.py",
     "varRefreshCmd": "print(var_dic_list())"
    },
    "r": {
     "delete_cmd_postfix": ") ",
     "delete_cmd_prefix": "rm(",
     "library": "var_list.r",
     "varRefreshCmd": "cat(var_dic_list()) "
    }
   },
   "types_to_exclude": [
    "module",
    "function",
    "builtin_function_or_method",
    "instance",
    "_Feature"
   ],
   "window_display": false
  }
 },
 "nbformat": 4,
 "nbformat_minor": 5
}
